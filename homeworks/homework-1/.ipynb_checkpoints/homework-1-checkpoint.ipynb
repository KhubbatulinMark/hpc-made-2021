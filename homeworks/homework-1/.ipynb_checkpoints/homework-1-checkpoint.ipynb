{
 "cells": [
  {
   "cell_type": "markdown",
   "id": "fe06494c-087d-4ef1-aa4a-f37046f2e28b",
   "metadata": {},
   "source": [
    "## <center> Homework #1"
   ]
  },
  {
   "cell_type": "code",
   "execution_count": 1,
   "id": "995af5ee-a58d-4617-ad8f-0359326a2ce9",
   "metadata": {},
   "outputs": [],
   "source": [
    "import re\n",
    "\n",
    "import pandas as pd\n",
    "import numpy as np\n",
    "\n",
    "from sklearn.model_selection import TimeSeriesSplit\n",
    "from sklearn.linear_model import LinearRegression\n",
    "\n",
    "import matplotlib.pyplot as plt"
   ]
  },
  {
   "cell_type": "markdown",
   "id": "7beeb895-b47b-4342-8b25-d823e2ee7de2",
   "metadata": {},
   "source": [
    "### 1.) На основании данных рейтинга top500 спрогнозировать  производительность компьютера №1 в 2025"
   ]
  },
  {
   "cell_type": "code",
   "execution_count": 2,
   "id": "909798c3-ee0f-4686-be8b-6c1f6cfac1a7",
   "metadata": {},
   "outputs": [
    {
     "data": {
      "text/html": [
       "<div>\n",
       "<style scoped>\n",
       "    .dataframe tbody tr th:only-of-type {\n",
       "        vertical-align: middle;\n",
       "    }\n",
       "\n",
       "    .dataframe tbody tr th {\n",
       "        vertical-align: top;\n",
       "    }\n",
       "\n",
       "    .dataframe thead th {\n",
       "        text-align: right;\n",
       "    }\n",
       "</style>\n",
       "<table border=\"1\" class=\"dataframe\">\n",
       "  <thead>\n",
       "    <tr style=\"text-align: right;\">\n",
       "      <th></th>\n",
       "      <th>0</th>\n",
       "      <th>1</th>\n",
       "      <th>2</th>\n",
       "      <th>3</th>\n",
       "      <th>4</th>\n",
       "      <th>5</th>\n",
       "      <th>6</th>\n",
       "    </tr>\n",
       "  </thead>\n",
       "  <tbody>\n",
       "    <tr>\n",
       "      <th>0</th>\n",
       "      <td>1993-5-1</td>\n",
       "      <td>1128.57</td>\n",
       "      <td>06/1993: Sum = 1.1 TFlop/s</td>\n",
       "      <td>59.7</td>\n",
       "      <td>06/1993: #1 = 59.7 GFlop/s</td>\n",
       "      <td>0.42</td>\n",
       "      <td>06/1993: #500 = 0.4 GFlop/s]</td>\n",
       "    </tr>\n",
       "    <tr>\n",
       "      <th>1</th>\n",
       "      <td>1993-10-1</td>\n",
       "      <td>1493.35</td>\n",
       "      <td>11/1993: Sum = 1.5 TFlop/s</td>\n",
       "      <td>124.0</td>\n",
       "      <td>11/1993: #1 = 124.0 GFlop/s</td>\n",
       "      <td>0.47</td>\n",
       "      <td>11/1993: #500 = 0.5 GFlop/s]</td>\n",
       "    </tr>\n",
       "  </tbody>\n",
       "</table>\n",
       "</div>"
      ],
      "text/plain": [
       "           0        1                           2      3  \\\n",
       "0   1993-5-1  1128.57  06/1993: Sum = 1.1 TFlop/s   59.7   \n",
       "1  1993-10-1  1493.35  11/1993: Sum = 1.5 TFlop/s  124.0   \n",
       "\n",
       "                             4     5                             6  \n",
       "0   06/1993: #1 = 59.7 GFlop/s  0.42  06/1993: #500 = 0.4 GFlop/s]  \n",
       "1  11/1993: #1 = 124.0 GFlop/s  0.47  11/1993: #500 = 0.5 GFlop/s]  "
      ]
     },
     "execution_count": 2,
     "metadata": {},
     "output_type": "execute_result"
    }
   ],
   "source": [
    "df = pd.read_csv('../resource/homework-1/development.csv', header=None)\n",
    "df.head(2)"
   ]
  },
  {
   "cell_type": "code",
   "execution_count": 3,
   "id": "86522f92-16d7-4b99-b3ba-fe752b16c2ab",
   "metadata": {},
   "outputs": [
    {
     "data": {
      "text/html": [
       "<div>\n",
       "<style scoped>\n",
       "    .dataframe tbody tr th:only-of-type {\n",
       "        vertical-align: middle;\n",
       "    }\n",
       "\n",
       "    .dataframe tbody tr th {\n",
       "        vertical-align: top;\n",
       "    }\n",
       "\n",
       "    .dataframe thead th {\n",
       "        text-align: right;\n",
       "    }\n",
       "</style>\n",
       "<table border=\"1\" class=\"dataframe\">\n",
       "  <thead>\n",
       "    <tr style=\"text-align: right;\">\n",
       "      <th></th>\n",
       "      <th>date</th>\n",
       "      <th>top1</th>\n",
       "    </tr>\n",
       "  </thead>\n",
       "  <tbody>\n",
       "    <tr>\n",
       "      <th>0</th>\n",
       "      <td>1993-05-01</td>\n",
       "      <td>59.7</td>\n",
       "    </tr>\n",
       "    <tr>\n",
       "      <th>1</th>\n",
       "      <td>1993-10-01</td>\n",
       "      <td>124.0</td>\n",
       "    </tr>\n",
       "  </tbody>\n",
       "</table>\n",
       "</div>"
      ],
      "text/plain": [
       "        date   top1\n",
       "0 1993-05-01   59.7\n",
       "1 1993-10-01  124.0"
      ]
     },
     "execution_count": 3,
     "metadata": {},
     "output_type": "execute_result"
    }
   ],
   "source": [
    "df = df[[0, 3]]\n",
    "df.columns = ['date', 'top1']\n",
    "df['date'] = pd.to_datetime(df['date'])\n",
    "df.head(2)"
   ]
  },
  {
   "cell_type": "code",
   "execution_count": 4,
   "id": "12bbde36-c66f-4fa9-9b0b-5a126e3ed049",
   "metadata": {},
   "outputs": [
    {
     "data": {
      "text/html": [
       "<div>\n",
       "<style scoped>\n",
       "    .dataframe tbody tr th:only-of-type {\n",
       "        vertical-align: middle;\n",
       "    }\n",
       "\n",
       "    .dataframe tbody tr th {\n",
       "        vertical-align: top;\n",
       "    }\n",
       "\n",
       "    .dataframe thead th {\n",
       "        text-align: right;\n",
       "    }\n",
       "</style>\n",
       "<table border=\"1\" class=\"dataframe\">\n",
       "  <thead>\n",
       "    <tr style=\"text-align: right;\">\n",
       "      <th></th>\n",
       "      <th>date</th>\n",
       "      <th>top1</th>\n",
       "    </tr>\n",
       "  </thead>\n",
       "  <tbody>\n",
       "    <tr>\n",
       "      <th>56</th>\n",
       "      <td>2021-05-01</td>\n",
       "      <td>442010000.0</td>\n",
       "    </tr>\n",
       "  </tbody>\n",
       "</table>\n",
       "</div>"
      ],
      "text/plain": [
       "         date         top1\n",
       "56 2021-05-01  442010000.0"
      ]
     },
     "execution_count": 4,
     "metadata": {},
     "output_type": "execute_result"
    }
   ],
   "source": [
    "df.tail(1)"
   ]
  },
  {
   "cell_type": "code",
   "execution_count": 5,
   "id": "fb5e9f07-d227-4983-9d1b-f0a00ed60ed8",
   "metadata": {},
   "outputs": [
    {
     "data": {
      "image/png": "[encoded data removed]",
      "text/plain": [
       "<Figure size 1152x576 with 1 Axes>"
      ]
     },
     "metadata": {
      "needs_background": "light"
     },
     "output_type": "display_data"
    }
   ],
   "source": [
    "plt.figure(figsize=(16, 8))\n",
    "plt.yscale(\"log\")\n",
    "\n",
    "plt.plot(df['date'], df['top1'], label='Top 1')\n",
    "plt.ylabel('Производительность [TFlops]')\n",
    "plt.xlabel('Время [года]')\n",
    "plt.legend()\n",
    "plt.show()"
   ]
  },
  {
   "cell_type": "markdown",
   "id": "76448759-2255-4c3a-81d0-afce0a2b4351",
   "metadata": {},
   "source": [
    "С помощью линейной регресии предскажем логарифм производительности. В качестве признака используем день от начала замеров"
   ]
  },
  {
   "cell_type": "code",
   "execution_count": 6,
   "id": "29f5f509-5508-468a-be42-7ef8f36a82f2",
   "metadata": {},
   "outputs": [],
   "source": [
    "df['day'] = (df['date'] - df['date'].iloc[0]).dt.days"
   ]
  },
  {
   "cell_type": "code",
   "execution_count": 7,
   "id": "846fe8bb-b1bb-415b-82b7-757c92c6f559",
   "metadata": {},
   "outputs": [],
   "source": [
    "X = df['day']\n",
    "y = np.log(df['top1'])\n",
    "df['day'] = (df['date'] - df['date'].iloc[0]).dt.days\n",
    "lr = LinearRegression()\n",
    "lr.fit(np.array(X).reshape(-1, 1), y);"
   ]
  },
  {
   "cell_type": "code",
   "execution_count": 8,
   "id": "fe93fab6-20bd-49ae-8b97-cabad5232aac",
   "metadata": {},
   "outputs": [],
   "source": [
    "df_pred = pd.DataFrame(\n",
    "    {\n",
    "        'date':[\n",
    "            '2021-10-01', '2022-05-01', \n",
    "            '2022-10-01', '2023-05-01', \n",
    "            '2023-10-01', '2024-05-01', \n",
    "            '2024-10-01', '2025-05-01', \n",
    "            '2025-10-01', \n",
    "        ]\n",
    "    }, dtype='datetime64[ns]'\n",
    ")\n",
    "df_pred = pd.concat([df, df_pred]).reset_index()"
   ]
  },
  {
   "cell_type": "code",
   "execution_count": 9,
   "id": "a63c3a1d-430b-41a5-9f12-f2c6a0b38f97",
   "metadata": {},
   "outputs": [],
   "source": [
    "df_pred['day'] = (df_pred['date'] - df['date'].iloc[0]).dt.days"
   ]
  },
  {
   "cell_type": "code",
   "execution_count": 10,
   "id": "71c48bf7-daf2-46ce-9680-12a06e97013a",
   "metadata": {},
   "outputs": [],
   "source": [
    "X_pred = df_pred['day']\n",
    "df_pred['top1'] = np.exp(lr.predict(np.array(X_pred).reshape(-1, 1)))"
   ]
  },
  {
   "cell_type": "code",
   "execution_count": 11,
   "id": "4a988306-da60-4450-ba8a-9ce9466773a4",
   "metadata": {},
   "outputs": [
    {
     "data": {
      "image/png": "[encoded data removed]",
      "text/plain": [
       "<Figure size 1152x576 with 1 Axes>"
      ]
     },
     "metadata": {
      "needs_background": "light"
     },
     "output_type": "display_data"
    }
   ],
   "source": [
    "plt.figure(figsize=(16, 8))\n",
    "plt.yscale(\"log\")\n",
    "\n",
    "plt.plot(df['date'], df['top1'], label='Top 1')\n",
    "plt.plot(df_pred['date'], df_pred['top1'], linestyle='-', label='Top 1 prediction')\n",
    "\n",
    "plt.title('Прогноз производительности Top-1 суперкомпьютера')\n",
    "plt.ylabel('Производительность [года]')\n",
    "plt.xlabel('Время [года]')\n",
    "plt.legend()\n",
    "plt.show()"
   ]
  },
  {
   "cell_type": "markdown",
   "id": "a5b01c7f-4419-4fcc-b450-8eba6fd8ee25",
   "metadata": {},
   "source": [
    "Производительность Top-1 в 2025"
   ]
  },
  {
   "cell_type": "code",
   "execution_count": 12,
   "id": "5ef411f7-a844-434e-8fe9-cb977b3cfcf1",
   "metadata": {},
   "outputs": [],
   "source": [
    "df_pred['top1'] = (df_pred['top1'] * 10**(-6)).round(3).astype(str) + ' PFlop/s'"
   ]
  },
  {
   "cell_type": "code",
   "execution_count": 13,
   "id": "e3ac92e0-842a-44f6-98d9-05a692210e71",
   "metadata": {},
   "outputs": [
    {
     "data": {
      "text/html": [
       "<div>\n",
       "<style scoped>\n",
       "    .dataframe tbody tr th:only-of-type {\n",
       "        vertical-align: middle;\n",
       "    }\n",
       "\n",
       "    .dataframe tbody tr th {\n",
       "        vertical-align: top;\n",
       "    }\n",
       "\n",
       "    .dataframe thead th {\n",
       "        text-align: right;\n",
       "    }\n",
       "</style>\n",
       "<table border=\"1\" class=\"dataframe\">\n",
       "  <thead>\n",
       "    <tr style=\"text-align: right;\">\n",
       "      <th></th>\n",
       "      <th>date</th>\n",
       "      <th>top1</th>\n",
       "    </tr>\n",
       "  </thead>\n",
       "  <tbody>\n",
       "    <tr>\n",
       "      <th>64</th>\n",
       "      <td>2025-05-01</td>\n",
       "      <td>13124.037 PFlop/s</td>\n",
       "    </tr>\n",
       "    <tr>\n",
       "      <th>65</th>\n",
       "      <td>2025-10-01</td>\n",
       "      <td>16812.269 PFlop/s</td>\n",
       "    </tr>\n",
       "  </tbody>\n",
       "</table>\n",
       "</div>"
      ],
      "text/plain": [
       "         date               top1\n",
       "64 2025-05-01  13124.037 PFlop/s\n",
       "65 2025-10-01  16812.269 PFlop/s"
      ]
     },
     "execution_count": 13,
     "metadata": {},
     "output_type": "execute_result"
    }
   ],
   "source": [
    "df_pred[df_pred.date.dt.year == 2025][['date', 'top1']]"
   ]
  },
  {
   "cell_type": "markdown",
   "id": "6fbeaccc-0040-4b59-ab34-2b2d82813587",
   "metadata": {},
   "source": [
    "## 2.) Оцените какой процент всего производимого на Земле электричества потребляют все компьютеры из top500 (на основании открытых данных top500.org)"
   ]
  },
  {
   "cell_type": "code",
   "execution_count": 14,
   "id": "451230bc-3da0-43a3-994a-968b6698b8d1",
   "metadata": {},
   "outputs": [
    {
     "data": {
      "text/html": [
       "<div>\n",
       "<style scoped>\n",
       "    .dataframe tbody tr th:only-of-type {\n",
       "        vertical-align: middle;\n",
       "    }\n",
       "\n",
       "    .dataframe tbody tr th {\n",
       "        vertical-align: top;\n",
       "    }\n",
       "\n",
       "    .dataframe thead th {\n",
       "        text-align: right;\n",
       "    }\n",
       "</style>\n",
       "<table border=\"1\" class=\"dataframe\">\n",
       "  <thead>\n",
       "    <tr style=\"text-align: right;\">\n",
       "      <th></th>\n",
       "      <th>Rank</th>\n",
       "      <th>Previous Rank</th>\n",
       "      <th>First Appearance</th>\n",
       "      <th>First Rank</th>\n",
       "      <th>Name</th>\n",
       "      <th>Computer</th>\n",
       "      <th>Site</th>\n",
       "      <th>Manufacturer</th>\n",
       "      <th>Country</th>\n",
       "      <th>Year</th>\n",
       "      <th>...</th>\n",
       "      <th>Accelerator/Co-Processor</th>\n",
       "      <th>Cores per Socket</th>\n",
       "      <th>Processor Generation</th>\n",
       "      <th>System Model</th>\n",
       "      <th>System Family</th>\n",
       "      <th>Interconnect Family</th>\n",
       "      <th>Interconnect</th>\n",
       "      <th>Continent</th>\n",
       "      <th>Site ID</th>\n",
       "      <th>System ID</th>\n",
       "    </tr>\n",
       "  </thead>\n",
       "  <tbody>\n",
       "    <tr>\n",
       "      <th>0</th>\n",
       "      <td>1</td>\n",
       "      <td>1.0</td>\n",
       "      <td>55</td>\n",
       "      <td>1</td>\n",
       "      <td>Supercomputer Fugaku</td>\n",
       "      <td>Supercomputer Fugaku, A64FX 48C 2.2GHz, Tofu i...</td>\n",
       "      <td>RIKEN Center for Computational Science</td>\n",
       "      <td>Fujitsu</td>\n",
       "      <td>Japan</td>\n",
       "      <td>2020</td>\n",
       "      <td>...</td>\n",
       "      <td>None</td>\n",
       "      <td>48</td>\n",
       "      <td>Fujitsu A64FX</td>\n",
       "      <td>Supercomputer Fugaku</td>\n",
       "      <td>Fujitsu Cluster</td>\n",
       "      <td>Proprietary Network</td>\n",
       "      <td>Tofu interconnect D</td>\n",
       "      <td>Asia</td>\n",
       "      <td>50 831</td>\n",
       "      <td>179807</td>\n",
       "    </tr>\n",
       "    <tr>\n",
       "      <th>1</th>\n",
       "      <td>2</td>\n",
       "      <td>2.0</td>\n",
       "      <td>51</td>\n",
       "      <td>1</td>\n",
       "      <td>Summit</td>\n",
       "      <td>IBM Power System AC922, IBM POWER9 22C 3.07GHz...</td>\n",
       "      <td>DOE/SC/Oak Ridge National Laboratory</td>\n",
       "      <td>IBM</td>\n",
       "      <td>United States</td>\n",
       "      <td>2018</td>\n",
       "      <td>...</td>\n",
       "      <td>NVIDIA Volta GV100</td>\n",
       "      <td>22</td>\n",
       "      <td>IBM POWER9</td>\n",
       "      <td>IBM Power System AC922</td>\n",
       "      <td>IBM Power Systems</td>\n",
       "      <td>Infiniband</td>\n",
       "      <td>Dual-rail Mellanox EDR Infiniband</td>\n",
       "      <td>North America</td>\n",
       "      <td>48 553</td>\n",
       "      <td>179397</td>\n",
       "    </tr>\n",
       "  </tbody>\n",
       "</table>\n",
       "<p>2 rows × 38 columns</p>\n",
       "</div>"
      ],
      "text/plain": [
       "   Rank  Previous Rank  First Appearance  First Rank                  Name  \\\n",
       "0     1            1.0                55           1  Supercomputer Fugaku   \n",
       "1     2            2.0                51           1                Summit   \n",
       "\n",
       "                                            Computer  \\\n",
       "0  Supercomputer Fugaku, A64FX 48C 2.2GHz, Tofu i...   \n",
       "1  IBM Power System AC922, IBM POWER9 22C 3.07GHz...   \n",
       "\n",
       "                                     Site Manufacturer        Country  Year  \\\n",
       "0  RIKEN Center for Computational Science      Fujitsu          Japan  2020   \n",
       "1    DOE/SC/Oak Ridge National Laboratory          IBM  United States  2018   \n",
       "\n",
       "   ... Accelerator/Co-Processor Cores per Socket Processor Generation  \\\n",
       "0  ...                     None               48        Fujitsu A64FX   \n",
       "1  ...       NVIDIA Volta GV100               22           IBM POWER9   \n",
       "\n",
       "             System Model       System Family  Interconnect Family  \\\n",
       "0    Supercomputer Fugaku     Fujitsu Cluster  Proprietary Network   \n",
       "1  IBM Power System AC922   IBM Power Systems           Infiniband   \n",
       "\n",
       "                        Interconnect      Continent Site ID System ID  \n",
       "0                Tofu interconnect D           Asia  50 831    179807  \n",
       "1  Dual-rail Mellanox EDR Infiniband  North America  48 553    179397  \n",
       "\n",
       "[2 rows x 38 columns]"
      ]
     },
     "execution_count": 14,
     "metadata": {},
     "output_type": "execute_result"
    }
   ],
   "source": [
    "df = pd.read_csv('../resource/homework-1/TOP500_202106.csv', sep=';')\n",
    "df.head(2)"
   ]
  },
  {
   "cell_type": "code",
   "execution_count": 15,
   "id": "46f8a038-b0df-4305-bf50-315e20907638",
   "metadata": {},
   "outputs": [
    {
     "name": "stdout",
     "output_type": "stream",
     "text": [
      "Отсутствует производительность: 319\n"
     ]
    }
   ],
   "source": [
    "df['Power (kW)'] = df['Power (kW)'].str.replace(',', '.').str.replace(u'\\xa0', '').astype(float)\n",
    "print(f\"Отсутствует производительность: {len(df[df['Power (kW)'].isna()])}\")"
   ]
  },
  {
   "cell_type": "code",
   "execution_count": 16,
   "id": "12ccf865-3d6f-4d25-943a-42342520bfd5",
   "metadata": {},
   "outputs": [
    {
     "name": "stdout",
     "output_type": "stream",
     "text": [
      "Отсутствует производительность: 0\n"
     ]
    }
   ],
   "source": [
    "df['Power (kW)'] = df['Power (kW)'].interpolate()\n",
    "print(f\"Отсутствует производительность: {len(df[df['Power (kW)'].isna()])}\")"
   ]
  },
  {
   "cell_type": "code",
   "execution_count": 17,
   "id": "6043ecbe-95c7-4093-81df-3328ca61bbc0",
   "metadata": {},
   "outputs": [],
   "source": [
    "top500_power = round((df['Power (kW)'].sum() * 8760) / 1e9, 3) # Умножаем на 8760 часов в году и переводим в TWh"
   ]
  },
  {
   "cell_type": "code",
   "execution_count": 18,
   "id": "6bf95ab5-05d4-47dd-b65e-d20a8e4f3524",
   "metadata": {},
   "outputs": [
    {
     "data": {
      "text/plain": [
       "7.547"
      ]
     },
     "execution_count": 18,
     "metadata": {},
     "output_type": "execute_result"
    }
   ],
   "source": [
    "top500_power"
   ]
  },
  {
   "cell_type": "markdown",
   "id": "a4c86779-43ef-4cd1-a704-6b7065912f60",
   "metadata": {},
   "source": [
    "Данные о производстве взяты отсюда https://ourworldindata.org/explorers/energy?facet=none&country=~OWID_WRL&Total+or+Breakdown=Total&Energy+or+Electricity=Electricity+only&Metric=Annual+generation"
   ]
  },
  {
   "cell_type": "code",
   "execution_count": 19,
   "id": "2cf255f4-6c5c-406b-b044-c9e0b2c748e4",
   "metadata": {},
   "outputs": [],
   "source": [
    "world_power = 25850"
   ]
  },
  {
   "cell_type": "code",
   "execution_count": 20,
   "id": "4e62dfd5-f8c9-43c6-9179-6066c80dc004",
   "metadata": {},
   "outputs": [
    {
     "name": "stdout",
     "output_type": "stream",
     "text": [
      "0.0292% потребляют суперкомпьютеры от производимого эл-ва\n"
     ]
    }
   ],
   "source": [
    "print(f\"{round(((top500_power / world_power) * 100), 4)}% потребляют суперкомпьютеры от производимого эл-ва\")"
   ]
  }
 ],
 "metadata": {
  "kernelspec": {
   "display_name": "Python 3",
   "language": "python",
   "name": "python3"
  },
  "language_info": {
   "codemirror_mode": {
    "name": "ipython",
    "version": 3
   },
   "file_extension": ".py",
   "mimetype": "text/x-python",
   "name": "python",
   "nbconvert_exporter": "python",
   "pygments_lexer": "ipython3",
   "version": "3.8.8"
  }
 },
 "nbformat": 4,
 "nbformat_minor": 5
}
